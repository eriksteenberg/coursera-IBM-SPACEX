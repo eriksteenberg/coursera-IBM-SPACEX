{
 "cells": [
  {
   "cell_type": "code",
   "execution_count": 1,
   "id": "2e7725a9",
   "metadata": {},
   "outputs": [],
   "source": [
    "import pandas as pd\n",
    "import dash\n",
    "#import dash_html_components as html\n",
    "from dash import html\n",
    "#import dash_core_components as dcc\n",
    "from dash import dcc\n",
    "from dash.dependencies import Input, Output\n",
    "import plotly.express as px"
   ]
  },
  {
   "cell_type": "code",
   "execution_count": 2,
   "id": "6747730d",
   "metadata": {},
   "outputs": [
    {
     "name": "stdout",
     "output_type": "stream",
     "text": [
      "['CCAFS LC-40' 'VAFB SLC-4E' 'KSC LC-39A' 'CCAFS SLC-40']\n",
      "Index(['Unnamed: 0', 'Flight Number', 'Launch Site', 'class',\n",
      "       'Payload Mass (kg)', 'Booster Version', 'Booster Version Category'],\n",
      "      dtype='object')\n"
     ]
    }
   ],
   "source": [
    "# Read the airline data into pandas dataframe\n",
    "spacex_df = pd.read_csv(\"spacex_launch_dash.csv\")\n",
    "max_payload = spacex_df['Payload Mass (kg)'].max()\n",
    "min_payload = spacex_df['Payload Mass (kg)'].min()\n",
    "print(spacex_df[\"Launch Site\"].unique())\n",
    "print(spacex_df.keys())"
   ]
  },
  {
   "cell_type": "code",
   "execution_count": 3,
   "id": "74e6ad2a",
   "metadata": {},
   "outputs": [
    {
     "data": {
      "text/html": [
       "\n",
       "        <iframe\n",
       "            width=\"100%\"\n",
       "            height=\"650\"\n",
       "            src=\"http://127.0.0.1:8050/\"\n",
       "            frameborder=\"0\"\n",
       "            allowfullscreen\n",
       "            \n",
       "        ></iframe>\n",
       "        "
      ],
      "text/plain": [
       "<IPython.lib.display.IFrame at 0x2c4ebdf4210>"
      ]
     },
     "metadata": {},
     "output_type": "display_data"
    }
   ],
   "source": [
    "\n",
    "# Create a dash application\n",
    "app = dash.Dash(__name__)\n",
    "\n",
    "# Create an app layout\n",
    "app.layout = html.Div(children=[html.H1('SpaceX Launch Records Dashboard',\n",
    "                                        style={'textAlign': 'center', 'color': '#503D36',\n",
    "                                               'font-size': 40}),\n",
    "                                # TASK 1: Add a dropdown list to enable Launch Site selection\n",
    "                                # The default select value is for ALL sites\n",
    "                                 dcc.Dropdown(id='site-dropdown',\n",
    "                                            options=[{'label': 'All Sites', 'value': 'ALL'},\n",
    "                                                     {'label': 'site1', 'value': 'CCAFS LC-40'},\n",
    "                                                    {'label': 'site2', 'value': 'VAFB SLC-4E'},\n",
    "                                                    {'label': 'site3', 'value': 'KSC LC-39A'},\n",
    "                                                    {'label': 'site4', 'value': 'CCAFS SLC-40'}\n",
    "                                                    ],   \n",
    "                                             value ='ALL', # 'CCAFS LC-40',#{'label': 'site1', 'value': 'CCAFS LC-40'},#{'label': 'All Sites', 'value': 'ALL'} ,\n",
    "                                             placeholder=\"Select a Launch Site here\",\n",
    "                                              searchable=True\n",
    "                                             ),\n",
    "                                html.Br(),\n",
    "\n",
    "                                # TASK 2: Add a pie chart to show the total successful launches count for all sites\n",
    "                                # If a specific launch site was selected, show the Success vs. Failed counts for the site\n",
    "                                html.Div(dcc.Graph(id='success-pie-chart')),\n",
    "                                html.Br(),\n",
    "\n",
    "                                html.P(\"Payload range (Kg):\"),\n",
    "                                # TASK 3: Add a slider to select payload range\n",
    "                                dcc.RangeSlider(id='payload-slider',\n",
    "                                                min=0,\n",
    "                                                max=10_000,\n",
    "                                                step = 1000,\n",
    "                                                value=[0,10_000],\n",
    "                                                marks = {0:\"0\",2000:\"2000\",\n",
    "                                                         4000:\"4000\",6000:\"6000\",\n",
    "                                                         8000:\"8000\",10_000:\"10.000\"}\n",
    "                                                ),\n",
    "\n",
    "                                # TASK 4: Add a scatter chart to show the correlation between payload and launch success\n",
    "                                html.Div(dcc.Graph(id='success-payload-scatter-chart')),\n",
    "                                ])\n",
    "\n",
    "# TASK 2:\n",
    "# Add a callback function for `site-dropdown` as input, `success-pie-chart` as output\n",
    "\n",
    "# Function decorator to specify function input and output\n",
    "@app.callback(Output(component_id='success-pie-chart', component_property='figure'),\n",
    "              Input(component_id='site-dropdown', component_property='value'))\n",
    "def get_pie_chart(entered_site):\n",
    "    filtered_df = spacex_df[spacex_df[\"class\"]==1]\n",
    "    if entered_site == 'ALL':\n",
    "        fig = px.pie(filtered_df, #values='class', \n",
    "        names=\"Launch Site\",#'pie chart names', \n",
    "        title='All the successfull launches spread across sites')\n",
    "        return fig\n",
    "    else:\n",
    "        filtered_df = spacex_df[spacex_df[\"Launch Site\"]== entered_site]\n",
    "        fig = px.pie(filtered_df, #values=[\"succes\",\"failure\"],\n",
    "                    names = \"class\",\n",
    "                     #labels=[\"Success\",\"Faiulre\"],#{1:\"Succes\",0:\"Failure\"},\n",
    "                    #color_discrete_map={\"\"},\n",
    "                    title = \"succes and failure of site %s\" %entered_site)\n",
    "\n",
    "        return fig\n",
    "        # return the outcomes piechart for a selected site\n",
    "        \n",
    "# TASK 4:\n",
    "# Add a callback function for `site-dropdown` and `payload-slider` as inputs,\n",
    "#`success-payload-scatter-chart` as output\n",
    "\n",
    "@app.callback(\n",
    "    Output(component_id=\"success-payload-scatter-chart\",component_property=\"figure\"),\n",
    "            [Input(component_id=\"site-dropdown\",component_property=\"value\"),\n",
    "             Input(component_id=\"payload-slider\",component_property=\"value\")]\n",
    "            \n",
    "            )\n",
    "def scatter(site,slider_range):\n",
    "    low, high = slider_range\n",
    "    mask = (spacex_df['Payload Mass (kg)'] > low) & (spacex_df['Payload Mass (kg)'] < high)\n",
    "\n",
    "    if site == \"ALL\":\n",
    "        fig = px.scatter(spacex_df[mask],\n",
    "                         x='Payload Mass (kg)',\n",
    "                         y='class',\n",
    "                         color=\"Booster Version Category\")\n",
    "        return fig\n",
    "    else:\n",
    "        filtered_df  =spacex_df[spacex_df[\"Launch Site\"]==site]\n",
    "        fig = px.scatter(filtered_df[mask],\n",
    "                         x='Payload Mass (kg)',\n",
    "                         y='class',\n",
    "                         color=\"Booster Version Category\")\n",
    "        return fig\n",
    "    \n",
    "\n",
    "# Run the app\n",
    "if __name__ == '__main__':\n",
    "    app.run_server()"
   ]
  },
  {
   "cell_type": "code",
   "execution_count": null,
   "id": "7924f51f",
   "metadata": {},
   "outputs": [],
   "source": []
  }
 ],
 "metadata": {
  "kernelspec": {
   "display_name": "Python 3 (ipykernel)",
   "language": "python",
   "name": "python3"
  },
  "language_info": {
   "codemirror_mode": {
    "name": "ipython",
    "version": 3
   },
   "file_extension": ".py",
   "mimetype": "text/x-python",
   "name": "python",
   "nbconvert_exporter": "python",
   "pygments_lexer": "ipython3",
   "version": "3.11.3"
  }
 },
 "nbformat": 4,
 "nbformat_minor": 5
}
